{
  "nbformat": 4,
  "nbformat_minor": 0,
  "metadata": {
    "colab": {
      "provenance": []
    },
    "kernelspec": {
      "name": "python3",
      "display_name": "Python 3"
    },
    "language_info": {
      "name": "python"
    }
  },
  "cells": [
    {
      "cell_type": "markdown",
      "source": [
        "Question 1"
      ],
      "metadata": {
        "id": "O31-rJ2mmR_b"
      }
    },
    {
      "cell_type": "code",
      "execution_count": 6,
      "metadata": {
        "colab": {
          "base_uri": "https://localhost:8080/"
        },
        "id": "X_VEfYYBmNDj",
        "outputId": "82ada93c-7066-4fef-fac8-6660ad142bfb"
      },
      "outputs": [
        {
          "output_type": "stream",
          "name": "stdout",
          "text": [
            "['pyhton', 1, 2, 3, 'sama', 'amit']\n"
          ]
        }
      ],
      "source": [
        "x= (1,2,3,\"sama\", \"amit\")\n",
        "z= list(x)\n",
        "x= z.insert(0,\"pyhton\")\n",
        "print(z)"
      ]
    },
    {
      "cell_type": "markdown",
      "source": [
        "Question 2"
      ],
      "metadata": {
        "id": "o6AhPL8bm7bB"
      }
    },
    {
      "cell_type": "code",
      "source": [
        "x= [1,2,3,4,5]\n",
        "z= sum(x)\n",
        "print(z)"
      ],
      "metadata": {
        "colab": {
          "base_uri": "https://localhost:8080/"
        },
        "id": "1ncwAMvHm-Wx",
        "outputId": "59d49eec-6a52-4ee4-c92f-42195cc849d1"
      },
      "execution_count": 7,
      "outputs": [
        {
          "output_type": "stream",
          "name": "stdout",
          "text": [
            "15\n"
          ]
        }
      ]
    },
    {
      "cell_type": "markdown",
      "source": [
        "Question 3"
      ],
      "metadata": {
        "id": "c38x871inOTq"
      }
    },
    {
      "cell_type": "code",
      "source": [
        "numbers = [1,2,2,3,4]\n",
        "product = 1\n",
        "\n",
        "for num in numbers:\n",
        "    product *= num\n",
        "\n",
        "print(\"Product:\", product)\n"
      ],
      "metadata": {
        "colab": {
          "base_uri": "https://localhost:8080/"
        },
        "id": "ta4sptT0nSJa",
        "outputId": "46d4c863-acd9-4530-bb4a-ccac594ffeb8"
      },
      "execution_count": 10,
      "outputs": [
        {
          "output_type": "stream",
          "name": "stdout",
          "text": [
            "Product: 48\n"
          ]
        }
      ]
    },
    {
      "cell_type": "markdown",
      "source": [
        "Question 4"
      ],
      "metadata": {
        "id": "Aq52_Tzxn9ms"
      }
    },
    {
      "cell_type": "code",
      "source": [
        "numbers = [1,2,34,5,66,778,0,-1]\n",
        "smallest = min(numbers)\n",
        "\n",
        "print(\"The smallest number is:\", smallest)\n"
      ],
      "metadata": {
        "colab": {
          "base_uri": "https://localhost:8080/"
        },
        "id": "iLsUCrxln-7N",
        "outputId": "52fca685-c4d1-4d16-d6ca-f63becd8f6ba"
      },
      "execution_count": 12,
      "outputs": [
        {
          "output_type": "stream",
          "name": "stdout",
          "text": [
            "The smallest number is: -1\n"
          ]
        }
      ]
    },
    {
      "cell_type": "markdown",
      "source": [
        "Question 5"
      ],
      "metadata": {
        "id": "6V4h6xYvo5Ij"
      }
    },
    {
      "cell_type": "code",
      "source": [
        "numbers = [1,2,34,5,66,778,0,-1]\n",
        "biggest = max(numbers)\n",
        "\n",
        "print(\"The biggest number is:\", biggest)"
      ],
      "metadata": {
        "colab": {
          "base_uri": "https://localhost:8080/"
        },
        "id": "68LTnKtXo7F-",
        "outputId": "9a68998d-2107-4e38-c926-5f7ff6b9f966"
      },
      "execution_count": 14,
      "outputs": [
        {
          "output_type": "stream",
          "name": "stdout",
          "text": [
            "The biggest number is: 778\n"
          ]
        }
      ]
    },
    {
      "cell_type": "markdown",
      "source": [
        "Question 6"
      ],
      "metadata": {
        "id": "6arZBg-vpHBe"
      }
    },
    {
      "cell_type": "code",
      "source": [
        "def count_strings(string_list):\n",
        "    count = 0\n",
        "    for item in string_list:\n",
        "        if isinstance(item, str):\n",
        "            count += 1\n",
        "    return count\n",
        "\n",
        "\n",
        "example_list = [\"hello\", \"world\", \"python\",  \"programming\", True]\n",
        "\n",
        "\n",
        "string_count = count_strings(example_list)\n",
        "\n",
        "print(\"The number of strings in the list is:\", string_count)\n",
        "\n"
      ],
      "metadata": {
        "colab": {
          "base_uri": "https://localhost:8080/"
        },
        "id": "6uj44xVvpGtf",
        "outputId": "b1b97bd0-465a-4ea4-be36-e27bf3d1cba6"
      },
      "execution_count": 16,
      "outputs": [
        {
          "output_type": "stream",
          "name": "stdout",
          "text": [
            "The number of strings in the list is: 4\n"
          ]
        }
      ]
    },
    {
      "cell_type": "markdown",
      "source": [
        "Question 7"
      ],
      "metadata": {
        "id": "b_krVV43E-yf"
      }
    },
    {
      "cell_type": "code",
      "source": [
        "original = [1, 2, 3, 4, 5,6,7,8,9]\n",
        "\n",
        "cloned = original.copy()\n",
        "\n",
        "print(\"Original List:\", original)\n",
        "print(\"Cloned List:\", cloned)\n",
        "\n"
      ],
      "metadata": {
        "colab": {
          "base_uri": "https://localhost:8080/"
        },
        "id": "GU2OkbExE8x0",
        "outputId": "e797c1fe-858a-49e2-a8e7-b6fdb71ac31a"
      },
      "execution_count": 19,
      "outputs": [
        {
          "output_type": "stream",
          "name": "stdout",
          "text": [
            "Original List: [1, 2, 3, 4, 5, 6, 7, 8, 9]\n",
            "Cloned List: [1, 2, 3, 4, 5, 6, 7, 8, 9]\n"
          ]
        }
      ]
    },
    {
      "cell_type": "markdown",
      "source": [
        "Question 8"
      ],
      "metadata": {
        "id": "F2YZJ3UiFl0M"
      }
    },
    {
      "cell_type": "code",
      "source": [
        "x= [1,2,3,4,\"sama\"]\n",
        "z= x.remove(\"sama\")\n",
        "print(x)"
      ],
      "metadata": {
        "colab": {
          "base_uri": "https://localhost:8080/"
        },
        "id": "eH3bElxdFnQD",
        "outputId": "e3d9ffd2-c869-475e-cdca-21cbd1755b6a"
      },
      "execution_count": 20,
      "outputs": [
        {
          "output_type": "stream",
          "name": "stdout",
          "text": [
            "[1, 2, 3, 4]\n"
          ]
        }
      ]
    },
    {
      "cell_type": "markdown",
      "source": [
        "Question 9"
      ],
      "metadata": {
        "id": "EMAE5_q1GGvK"
      }
    },
    {
      "cell_type": "code",
      "source": [
        "\n",
        "set1 = {4,5,6,7,8,9}\n",
        "set2 = {8,9}\n",
        "\n",
        "subset = set2 <= set1\n",
        "\n",
        "\n",
        "print(\"set2 is a subset of set1?\", subset)\n"
      ],
      "metadata": {
        "colab": {
          "base_uri": "https://localhost:8080/"
        },
        "id": "bLLIU8BjGLrr",
        "outputId": "89418942-40e0-498f-99bb-0f1f8c54d290"
      },
      "execution_count": 24,
      "outputs": [
        {
          "output_type": "stream",
          "name": "stdout",
          "text": [
            "Is set2 a subset of set1? False\n"
          ]
        }
      ]
    },
    {
      "cell_type": "markdown",
      "source": [
        "Question 10"
      ],
      "metadata": {
        "id": "uXQRGLa0HHRB"
      }
    },
    {
      "cell_type": "code",
      "source": [
        "x= {1,2,3,4,\"sama\",False}\n",
        "x.clear()\n",
        "print(x)"
      ],
      "metadata": {
        "colab": {
          "base_uri": "https://localhost:8080/"
        },
        "id": "tcba76TUHIgG",
        "outputId": "60118121-856d-4339-aaed-8b82dbfb8813"
      },
      "execution_count": 31,
      "outputs": [
        {
          "output_type": "stream",
          "name": "stdout",
          "text": [
            "set()\n"
          ]
        }
      ]
    },
    {
      "cell_type": "markdown",
      "source": [
        "Question 11"
      ],
      "metadata": {
        "id": "Ooc76s-vHt_t"
      }
    },
    {
      "cell_type": "code",
      "source": [
        "x= {0,1,2,3,4,5,6,7,8,9}\n",
        "y=list(x)\n",
        "z=max(y)\n",
        "f=min(y)\n",
        "print(\"max number is :\" ,z)\n",
        "print(\"min number is :\", f)"
      ],
      "metadata": {
        "colab": {
          "base_uri": "https://localhost:8080/"
        },
        "id": "CxVhmxyIHvmb",
        "outputId": "a114d3f5-a9bd-48bc-ed0f-1563bb941231"
      },
      "execution_count": 41,
      "outputs": [
        {
          "output_type": "stream",
          "name": "stdout",
          "text": [
            "max number is : 9\n",
            "min number is : 0\n"
          ]
        }
      ]
    },
    {
      "cell_type": "markdown",
      "source": [
        "Question 12"
      ],
      "metadata": {
        "id": "HAq1cApfIimv"
      }
    },
    {
      "cell_type": "code",
      "source": [
        "x= (1,2,3,4,\"sama\", \"amit\")\n",
        "x.index(\"sama\")"
      ],
      "metadata": {
        "colab": {
          "base_uri": "https://localhost:8080/"
        },
        "id": "0xh1x3zdIkKk",
        "outputId": "eb07696d-d6eb-47bf-a9eb-523c26d75120"
      },
      "execution_count": 42,
      "outputs": [
        {
          "output_type": "execute_result",
          "data": {
            "text/plain": [
              "4"
            ]
          },
          "metadata": {},
          "execution_count": 42
        }
      ]
    },
    {
      "cell_type": "markdown",
      "source": [
        "Questio 13"
      ],
      "metadata": {
        "id": "8ebugDCPIxZi"
      }
    },
    {
      "cell_type": "code",
      "source": [
        "x= ((\"a\", \"1\"), (\"b\", \"3\"), (\"C\", \"6\"))\n",
        "y= dict(x)\n",
        "print(\"Dictionary :\", y)"
      ],
      "metadata": {
        "colab": {
          "base_uri": "https://localhost:8080/"
        },
        "id": "Vd3iyO5gIyqU",
        "outputId": "f8800ae3-aea4-4541-b84f-8b7b8932a552"
      },
      "execution_count": 47,
      "outputs": [
        {
          "output_type": "stream",
          "name": "stdout",
          "text": [
            "Dictionary : {'a': '1', 'b': '3', 'C': '6'}\n"
          ]
        }
      ]
    },
    {
      "cell_type": "markdown",
      "source": [
        "Question 14"
      ],
      "metadata": {
        "id": "poNg-SzZJmCV"
      }
    },
    {
      "cell_type": "code",
      "source": [
        "tuples= ((1,2,3),(4,5,6))\n",
        "x=list(tuples)\n",
        "print(x)"
      ],
      "metadata": {
        "colab": {
          "base_uri": "https://localhost:8080/"
        },
        "id": "SQeor1fVJn92",
        "outputId": "b5cc153e-fe08-4af8-9597-6e0e0134a254"
      },
      "execution_count": 48,
      "outputs": [
        {
          "output_type": "stream",
          "name": "stdout",
          "text": [
            "[(1, 2, 3), (4, 5, 6)]\n"
          ]
        }
      ]
    },
    {
      "cell_type": "markdown",
      "source": [
        "Question 15"
      ],
      "metadata": {
        "id": "xK2fxkWOKIS5"
      }
    },
    {
      "cell_type": "code",
      "source": [
        "x= (1,2,3,4,\"amit\")\n",
        "y=list(x)\n",
        "y.reverse()\n",
        "print(y)"
      ],
      "metadata": {
        "colab": {
          "base_uri": "https://localhost:8080/"
        },
        "id": "Gxf186V0KH_4",
        "outputId": "df5eb4a5-5eb5-42a5-ff7d-ef8160d541a0"
      },
      "execution_count": 54,
      "outputs": [
        {
          "output_type": "stream",
          "name": "stdout",
          "text": [
            "['amit', 4, 3, 2, 1]\n"
          ]
        }
      ]
    },
    {
      "cell_type": "markdown",
      "source": [
        "Question 16"
      ],
      "metadata": {
        "id": "YEXbwaa4Krk0"
      }
    },
    {
      "cell_type": "code",
      "source": [
        "x=((\"a\",\"23\"),(\"b\",\"333\"),(\"v\",\"66\"))\n",
        "z=dict(x)\n",
        "print(z)"
      ],
      "metadata": {
        "colab": {
          "base_uri": "https://localhost:8080/"
        },
        "id": "5P1S09vmKt_X",
        "outputId": "4ceb0af9-c064-4603-adcb-38748d3cf7c3"
      },
      "execution_count": 55,
      "outputs": [
        {
          "output_type": "stream",
          "name": "stdout",
          "text": [
            "{'a': '23', 'b': '333', 'v': '66'}\n"
          ]
        }
      ]
    },
    {
      "cell_type": "markdown",
      "source": [
        "Question 17"
      ],
      "metadata": {
        "id": "OQ95clFsLRbc"
      }
    },
    {
      "cell_type": "code",
      "source": [
        "\n",
        "x = [(10, 20, 40), (40, 50, 60), (70, 80, 90)]\n",
        "z = 100\n",
        "new = [(a, b, z) for a, b, _ in x]\n",
        "print(\"Modified Tuples:\", new)\n"
      ],
      "metadata": {
        "colab": {
          "base_uri": "https://localhost:8080/"
        },
        "id": "uMBs5P46NNNr",
        "outputId": "25dd24f1-9336-433c-f8ae-c0e3737bc3c8"
      },
      "execution_count": 73,
      "outputs": [
        {
          "output_type": "stream",
          "name": "stdout",
          "text": [
            "Modified Tuples: [(10, 20, 100), (40, 50, 100), (70, 80, 100)]\n"
          ]
        }
      ]
    },
    {
      "cell_type": "markdown",
      "source": [
        "Question 18"
      ],
      "metadata": {
        "id": "NQhM-LtzOCO7"
      }
    },
    {
      "cell_type": "code",
      "source": [
        "x= (2,8,3), (2,1,3,6,4,5)\n",
        "y=list(x)\n",
        "z= y.sort()\n",
        "print(x)\n",
        "\n"
      ],
      "metadata": {
        "colab": {
          "base_uri": "https://localhost:8080/"
        },
        "id": "tIq-cbGpOGqB",
        "outputId": "87afde76-04e5-4e1c-ebcf-c11dc3c36c2b"
      },
      "execution_count": 80,
      "outputs": [
        {
          "output_type": "stream",
          "name": "stdout",
          "text": [
            "((2, 8, 3), (2, 1, 3, 6, 4, 5))\n"
          ]
        }
      ]
    }
  ]
}